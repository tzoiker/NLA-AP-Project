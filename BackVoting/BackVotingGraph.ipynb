{
 "metadata": {
  "name": "",
  "signature": "sha256:13d5e5bbb48c106d87518cd23aa71f63f16b9b39b2b9fb3ef574986ab8796e75"
 },
 "nbformat": 3,
 "nbformat_minor": 0,
 "worksheets": [
  {
   "cells": [
    {
     "cell_type": "code",
     "collapsed": false,
     "input": [
      "#All target Users Voted By\n",
      "\n",
      "#Back Voting\n",
      "import numpy as np\n",
      "AllData = []\n",
      "ins = open(\"AllData.txt\", \"r\" )\n",
      "for line in ins:\n",
      "    AllData.append(line.replace('\\n',''))\n",
      "\n",
      "TargetUsers = []\n",
      "adminNames = open(\"TargetUsers.txt\", \"r\" )\n",
      "for line in adminNames:\n",
      "    TargetUsers.append(line.replace('\\n','').replace(\"(page does not exist)\",\"\").strip())\n",
      "    \n",
      "VotingList = []\n",
      "\n",
      "for tName in TargetUsers:\n",
      "    adData = tName + \"-->\"\n",
      "    for data in AllData:\n",
      "        d = data.split(\";\")\n",
      "        src = d[0]\n",
      "        trg = d[1]\n",
      "        year = d[4]\n",
      "        time = d[5]\n",
      "        if src == tName:\n",
      "            for TU in TargetUsers:\n",
      "                if  trg == TU:\n",
      "                    adData = adData + trg +\":\"+ year + \":\"+time+\";\"\n",
      "    VotingList.append(adData)\n",
      "\n",
      "f = open(\"TargetUsersVotedTo.txt\",\"w\")\n",
      "\n",
      "for v in VotingList:\n",
      "    f.write(v+\"\\n\")\n",
      "f.close()\n",
      "\n"
     ],
     "language": "python",
     "metadata": {},
     "outputs": [
      {
       "output_type": "stream",
       "stream": "stdout",
       "text": [
        "2\n"
       ]
      }
     ],
     "prompt_number": 1
    },
    {
     "cell_type": "code",
     "collapsed": false,
     "input": [
      "##Back to Back Voting\n",
      "BackVotingData = []\n",
      "VotedTo = []\n",
      "Voting = open(\"TargetUsersVotedTo.txt\", \"r\" )\n",
      "for line in Voting:\n",
      "    VotedTo.append(line.replace('\\n',''))\n",
      "VotedBy = []\n",
      "AAVoting = open(\"TargetUsersVotedBy.txt\", \"r\" )\n",
      "for line in AAVoting:\n",
      "    VotedBy.append(line.replace('\\n',''))  \n",
      "\n",
      "for i in xrange(0,len(VotedTo)):\n",
      "    VotedToStr = VotedTo[i]\n",
      "    VotedName = VotedToStr[:VotedToStr.find(\"-->\")]\n",
      "    VotedSplit = VotedToStr[VotedToStr.find(\">\")+1:].split(\";\")\n",
      "    data = VotedName + \"-->\"\n",
      "    if VotedSplit[0] <> \"\":\n",
      "        for j in xrange(0,len(VotedSplit)-1):\n",
      "            VotedT = VotedSplit[j].split(\":\")[0]\n",
      "            temp = VotedBy[i]\n",
      "            VotedBySplit = temp[temp.find(\">\")+1:].split(\";\")\n",
      "            for k in xrange(0,len(VotedBySplit)-1):\n",
      "                vtemp = VotedBySplit[k].split(\":\")[0]\n",
      "                if VotedT == vtemp:\n",
      "                    data = data + vtemp + \"::\"      \n",
      "        BackVotingData.append(data)\n",
      "    else:\n",
      "        BackVotingData.append(data)\n",
      "f = open(\"BackVoting1.txt\",\"w\")\n",
      "\n",
      "for line in BackVotingData:\n",
      "    f.write(line + \"\\n\")\n",
      "f.close()\n",
      "\n",
      "\n"
     ],
     "language": "python",
     "metadata": {
      "run_control": {
       "breakpoint": false
      }
     },
     "outputs": []
    },
    {
     "cell_type": "code",
     "collapsed": false,
     "input": [
      "BackVotingData = []\n",
      "Voting = open(\"BackVoting1.txt\", \"r\")\n",
      "for line in Voting:\n",
      "    BackVotingData.append(line.replace('\\n',''))\n",
      "TargetUsers = []\n",
      "users = open(\"TargetUsers.txt\", \"r\" )\n",
      "for line in users:\n",
      "    TargetUsers.append(line.replace('\\n',''))\n",
      " \n",
      "f = open(\"BackVotingGraph.txt\",\"w\")\n",
      "\n",
      "for i in xrange(0,len(BackVotingData)):            #len(BackVotingData)\n",
      "    line = BackVotingData[i]\n",
      "    voters = line[line.find(\">\")+1:].split(\"::\")\n",
      "    if voters[0] <> \"\":\n",
      "        voters = voters[:len(voters)-1]\n",
      "        for voter in voters:\n",
      "            tempStr = str(i) + \" \"+str(TargetUsers.index(voter))\n",
      "            f.write(tempStr + \"\\n\")\n",
      "\n",
      "f.close()"
     ],
     "language": "python",
     "metadata": {
      "run_control": {
       "breakpoint": false
      }
     },
     "outputs": [
      {
       "output_type": "stream",
       "stream": "stdout",
       "text": [
        "['asd:asdasd', 'asdsadasd']\n"
       ]
      }
     ],
     "prompt_number": 11
    },
    {
     "cell_type": "code",
     "collapsed": false,
     "input": [
      "import snap\n",
      "\n",
      "f = open(\"CommunityData.txt\")\n",
      "UGraph = snap.LoadEdgeList(snap.PUNGraph, \"BackVotingGraph.txt\", 0, 1)\n",
      "CmtyV = snap.TCnComV()\n",
      "modularity = snap.CommunityGirvanNewman(UGraph, CmtyV)\n",
      "for Cmty in CmtyV:\n",
      "    f.write(\"Community: \\n\")\n",
      "    for NI in Cmty:\n",
      "        f.write(NI + \"\\n\")\n",
      "print \"The modularity of the network is %f\" % modularity"
     ],
     "language": "python",
     "metadata": {
      "run_control": {
       "breakpoint": false
      }
     },
     "outputs": []
    },
    {
     "cell_type": "code",
     "collapsed": false,
     "input": [
      "#Preparing Graph \n",
      "CommunityData = []\n",
      "Voting = open(\"CommunityData.txt\", \"r\")\n",
      "for line in Voting:\n",
      "    CommunityData.append(line.replace('\\n','').strip())\n",
      "\n",
      "TargetUsers = []\n",
      "users = open(\"TargetUsers.txt\", \"r\" )\n",
      "for line in users:\n",
      "    TargetUsers.append(line.replace('\\n',''))\n",
      "\n",
      "f = open(\"GraphDataTitle.txt\",\"w\")    \n",
      "number = 0\n",
      "count = 0\n",
      "for i in xrange(0,len(CommunityData)):\n",
      "    line = CommunityData[i]\n",
      "    if line == \"Community:\":\n",
      "        print \"community:\" + str(number)\n",
      "        print \"Total:\" + str(count)\n",
      "        number = number + 1\n",
      "        count = 0\n",
      "    else:\n",
      "        count = count + 1\n",
      "        data = \"{\\\"name\\\":\\\"\" + TargetUsers[int(line)] + \"\\\",\\\"group\\\":\" + str(number) + \"},\"\n",
      "        f.write(data + \"\\n\")\n",
      "f.close()"
     ],
     "language": "python",
     "metadata": {
      "run_control": {
       "breakpoint": false
      }
     },
     "outputs": [
      {
       "output_type": "stream",
       "stream": "stdout",
       "text": [
        "community:0\n",
        "Total:0\n"
       ]
      },
      {
       "ename": "IndexError",
       "evalue": "list index out of range",
       "output_type": "pyerr",
       "traceback": [
        "\u001b[1;31m---------------------------------------------------------------------------\u001b[0m\n\u001b[1;31mIndexError\u001b[0m                                Traceback (most recent call last)",
        "\u001b[1;32m<ipython-input-8-e25c6d9fc334>\u001b[0m in \u001b[0;36m<module>\u001b[1;34m()\u001b[0m\n\u001b[0;32m     21\u001b[0m     \u001b[1;32melse\u001b[0m\u001b[1;33m:\u001b[0m\u001b[1;33m\u001b[0m\u001b[0m\n\u001b[0;32m     22\u001b[0m         \u001b[0mcount\u001b[0m \u001b[1;33m=\u001b[0m \u001b[0mcount\u001b[0m \u001b[1;33m+\u001b[0m \u001b[1;36m1\u001b[0m\u001b[1;33m\u001b[0m\u001b[0m\n\u001b[1;32m---> 23\u001b[1;33m         \u001b[0mdata\u001b[0m \u001b[1;33m=\u001b[0m \u001b[1;34m\"{\\\"name\\\":\\\"\"\u001b[0m \u001b[1;33m+\u001b[0m \u001b[0mTargetUsers\u001b[0m\u001b[1;33m[\u001b[0m\u001b[0mint\u001b[0m\u001b[1;33m(\u001b[0m\u001b[0mline\u001b[0m\u001b[1;33m)\u001b[0m\u001b[1;33m]\u001b[0m \u001b[1;33m+\u001b[0m \u001b[1;34m\"\\\",\\\"group\\\":\"\u001b[0m \u001b[1;33m+\u001b[0m \u001b[0mstr\u001b[0m\u001b[1;33m(\u001b[0m\u001b[0mnumber\u001b[0m\u001b[1;33m)\u001b[0m \u001b[1;33m+\u001b[0m \u001b[1;34m\"},\"\u001b[0m\u001b[1;33m\u001b[0m\u001b[0m\n\u001b[0m\u001b[0;32m     24\u001b[0m         \u001b[0mf\u001b[0m\u001b[1;33m.\u001b[0m\u001b[0mwrite\u001b[0m\u001b[1;33m(\u001b[0m\u001b[0mdata\u001b[0m \u001b[1;33m+\u001b[0m \u001b[1;34m\"\\n\"\u001b[0m\u001b[1;33m)\u001b[0m\u001b[1;33m\u001b[0m\u001b[0m\n\u001b[0;32m     25\u001b[0m \u001b[0mf\u001b[0m\u001b[1;33m.\u001b[0m\u001b[0mclose\u001b[0m\u001b[1;33m(\u001b[0m\u001b[1;33m)\u001b[0m\u001b[1;33m\u001b[0m\u001b[0m\n",
        "\u001b[1;31mIndexError\u001b[0m: list index out of range"
       ]
      }
     ],
     "prompt_number": 8
    },
    {
     "cell_type": "code",
     "collapsed": false,
     "input": [
      "#Preparing Back Voting JSON Data for Visualization\n",
      "import numpy as np\n",
      "CData = []\n",
      "Voting = open(\"BackVotingGraph.txt\", \"r\")\n",
      "for line in Voting:\n",
      "    CData.append(line.replace('\\n','').strip())\n",
      "\n",
      "data = np.array(CData)\n",
      "idx = 0\n",
      "NewData = []\n",
      "NewData.append(data[0])\n",
      "data = np.delete(data,0)\n",
      "\n",
      "for d in data:\n",
      "    sp = d.split(\" \")\n",
      "    if sp[0] <> sp[1]:       \n",
      "        search = sp[1] + \" \" + sp[0]\n",
      "        npData = np.array(NewData)\n",
      "        found = np.where(npData == search)[0]\n",
      "        if len(found) == 0:\n",
      "            search = sp[0] + \" \" + sp[1]\n",
      "            found = np.where(npData == search)[0] \n",
      "            if len(found) == 0:\n",
      "                NewData.append(d)\n",
      "print len(NewData)    \n",
      "f = open(\"GraphDataEdged.txt\",\"w\")   \n",
      "for i in xrange(0,len(NewData)):\n",
      "    vals = NewData[i].split(\" \")\n",
      "    temp = \"{\\\"source\\\":\" + vals[0]+ \",\\\"target\\\":\" + vals[1] + \",\\\"value\\\":1},\"\n",
      "    f.write(temp + \"\\n\")\n",
      "f.close()\n"
     ],
     "language": "python",
     "metadata": {
      "run_control": {
       "breakpoint": false
      }
     },
     "outputs": [
      {
       "output_type": "stream",
       "stream": "stdout",
       "text": [
        "6996\n"
       ]
      }
     ],
     "prompt_number": 3
    },
    {
     "cell_type": "code",
     "collapsed": false,
     "input": [
      "import numpy as np\n",
      "A = ['1','2','3','4','4','4']\n",
      "A = np.array(A)\n",
      "B = np.where(A == '6')[0]\n",
      "print len(B)"
     ],
     "language": "python",
     "metadata": {
      "run_control": {
       "breakpoint": false
      }
     },
     "outputs": [
      {
       "output_type": "stream",
       "stream": "stdout",
       "text": [
        "0\n"
       ]
      }
     ],
     "prompt_number": 17
    },
    {
     "cell_type": "code",
     "collapsed": false,
     "input": [
      "import numpy as np\n",
      "\n",
      "data = ['1 2','2 3','3 2','4 6','6 4','4 5','5 8','6 9','4 0','2 1']\n",
      "data = np.array(data)\n",
      "idx = 0\n",
      "for d in data:\n",
      "    sp = d.split(\" \")\n",
      "    search = sp[1] + \" \" + sp[0]\n",
      "    ss = np.where(data[idx:] == search)[0]\n",
      "    print search + \":\" + str(ss)\n",
      "    data = np.delete(data,ss+idx)\n",
      "    print data\n",
      "    idx = idx +1\n",
      "\n",
      "print data"
     ],
     "language": "python",
     "metadata": {
      "run_control": {
       "breakpoint": false
      }
     },
     "outputs": [
      {
       "output_type": "stream",
       "stream": "stdout",
       "text": [
        "2 1:[9]\n",
        "['1 2' '2 3' '3 2' '4 6' '6 4' '4 5' '5 8' '6 9' '4 0']\n",
        "3 2:[1]\n",
        "['1 2' '2 3' '4 6' '6 4' '4 5' '5 8' '6 9' '4 0']\n",
        "2 3:[]\n",
        "['1 2' '2 3' '4 6' '6 4' '4 5' '5 8' '6 9' '4 0']\n",
        "6 4:[0]\n",
        "['1 2' '2 3' '4 6' '4 5' '5 8' '6 9' '4 0']\n",
        "4 6:[]\n",
        "['1 2' '2 3' '4 6' '4 5' '5 8' '6 9' '4 0']\n",
        "5 4:[]\n",
        "['1 2' '2 3' '4 6' '4 5' '5 8' '6 9' '4 0']\n",
        "8 5:[]\n",
        "['1 2' '2 3' '4 6' '4 5' '5 8' '6 9' '4 0']\n",
        "9 6:[]\n",
        "['1 2' '2 3' '4 6' '4 5' '5 8' '6 9' '4 0']\n",
        "0 4:[]\n",
        "['1 2' '2 3' '4 6' '4 5' '5 8' '6 9' '4 0']\n",
        "1 2:[]\n",
        "['1 2' '2 3' '4 6' '4 5' '5 8' '6 9' '4 0']\n",
        "['1 2' '2 3' '4 6' '4 5' '5 8' '6 9' '4 0']\n"
       ]
      }
     ],
     "prompt_number": 6
    },
    {
     "cell_type": "code",
     "collapsed": false,
     "input": [],
     "language": "python",
     "metadata": {
      "run_control": {
       "breakpoint": false
      }
     },
     "outputs": []
    }
   ],
   "metadata": {}
  }
 ]
}