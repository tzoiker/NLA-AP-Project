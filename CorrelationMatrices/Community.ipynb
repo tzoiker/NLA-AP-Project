{
 "metadata": {
  "name": "",
  "signature": "sha256:8c2a4beaaecdb24ae919c3bbafc6539ae4e408b6e9f91394bd4b44b01d2bec97"
 },
 "nbformat": 3,
 "nbformat_minor": 0,
 "worksheets": [
  {
   "cells": [
    {
     "cell_type": "code",
     "collapsed": false,
     "input": [
      "#Community Detection Code\n",
      "import snap\n",
      "import numpy as np\n",
      "\n",
      "#for i in xrange(5,10):\n",
      "ret = np.load('MatOriginal7.npz')\n",
      "Mat = ret['arr_0']\n",
      "Mat = Mat[:1308,:1308]\n",
      "f = open(\"Original7GraphAdmin.txt\",\"w\")\n",
      "for j in xrange(0,len(Mat)):\n",
      "    for k in xrange(0,len(Mat)):\n",
      "        if Mat[j,k] == 1:\n",
      "            f.write(str(j) + \" \" + str(k) + \"\\n\")\n",
      "f.close()\n",
      "     \n",
      "UGraph = snap.LoadEdgeList(snap.PUNGraph, \"Original7GraphAdmin.txt\", 0, 1)\n",
      "CmtyV = snap.TCnComV()\n",
      "modularity = snap.CommunityCNM(UGraph, CmtyV)\n",
      "f = open(\"Original7CommunityAdmin.txt\",\"w\")\n",
      "for Cmty in CmtyV:\n",
      "    f.write(\"Community:\"+\"\\n\")\n",
      "    for NI in Cmty:\n",
      "        f.write(str(NI) + \"\\n\")\n",
      "f.close()        \n",
      "print \"The modularity of the network is %f\" % modularity"
     ],
     "language": "python",
     "metadata": {},
     "outputs": [
      {
       "output_type": "stream",
       "stream": "stdout",
       "text": [
        "The modularity of the network is 0.160185\n"
       ]
      }
     ],
     "prompt_number": 2
    },
    {
     "cell_type": "code",
     "collapsed": false,
     "input": [],
     "language": "python",
     "metadata": {
      "run_control": {
       "breakpoint": false
      }
     },
     "outputs": [
      {
       "output_type": "stream",
       "stream": "stdout",
       "text": [
        "The modularity of the network is 0.281829\n"
       ]
      }
     ],
     "prompt_number": 5
    },
    {
     "cell_type": "code",
     "collapsed": false,
     "input": [],
     "language": "python",
     "metadata": {
      "run_control": {
       "breakpoint": false
      }
     },
     "outputs": []
    }
   ],
   "metadata": {}
  }
 ]
}